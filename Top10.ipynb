{
 "cells": [
  {
   "cell_type": "code",
   "execution_count": null,
   "metadata": {},
   "outputs": [],
   "source": [
    "import pandas as pd\n",
    "raw_data = pd.read_csv('311_Service_Requests_2020.csv')\n",
    "selected_data = raw_data[['Agency','Complaint Type','Incident Zip']]\n",
    "selected_data_zip_25 = selected_data.loc[selected_data['Incident Zip'] == 10025]\n",
    "top10 = selected_data_zip_25['Complaint Type'].value_counts().head(10)"
   ]
  }
 ],
 "metadata": {
  "language_info": {
   "name": "python"
  },
  "orig_nbformat": 4
 },
 "nbformat": 4,
 "nbformat_minor": 2
}
