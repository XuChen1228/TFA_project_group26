{
 "cells": [
  {
   "cell_type": "code",
   "execution_count": null,
   "metadata": {},
   "outputs": [],
   "source": [
    "import pandas as pd\n",
    "raw_data = pd.read_csv('311_Service_Requests_2020.csv')"
   ]
  },
  {
   "cell_type": "code",
   "execution_count": null,
   "metadata": {},
   "outputs": [],
   "source": [
    "selected_data = raw_data[['Agency','Complaint Type','Incident Zip']]\n",
    "selected_data_zip_25 = selected_data.loc[selected_data['Incident Zip'] == 10025]"
   ]
  },
  {
   "cell_type": "code",
   "execution_count": null,
   "metadata": {},
   "outputs": [],
   "source": [
    "prop_total = selected_data.loc[selected_data['Complaint Type']=='Illegal Parking']['Complaint Type'].value_counts() / len(selected_data)\n",
    "prop_zip25 = selected_data_zip_25.loc[selected_data_zip_25['Complaint Type']=='Illegal Parking']['Complaint Type'].value_counts() / len(selected_data_zip_25)"
   ]
  },
  {
   "cell_type": "code",
   "execution_count": null,
   "metadata": {},
   "outputs": [],
   "source": [
    "higher_parking_proportion = prop_zip25['Illegal Parking'] > prop_total['Illegal Parking']\n",
    "higher_parking_proportion"
   ]
  }
 ],
 "metadata": {
  "language_info": {
   "name": "python"
  },
  "orig_nbformat": 4
 },
 "nbformat": 4,
 "nbformat_minor": 2
}
